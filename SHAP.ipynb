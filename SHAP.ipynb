{
  "nbformat": 4,
  "nbformat_minor": 0,
  "metadata": {
    "colab": {
      "provenance": [],
      "authorship_tag": "ABX9TyOuf6giLWXEU6ooHRBXPg1g",
      "include_colab_link": true
    },
    "kernelspec": {
      "name": "python3",
      "display_name": "Python 3"
    },
    "language_info": {
      "name": "python"
    }
  },
  "cells": [
    {
      "cell_type": "markdown",
      "metadata": {
        "id": "view-in-github",
        "colab_type": "text"
      },
      "source": [
        "<a href=\"https://colab.research.google.com/github/newmantic/SHAP/blob/main/SHAP.ipynb\" target=\"_parent\"><img src=\"https://colab.research.google.com/assets/colab-badge.svg\" alt=\"Open In Colab\"/></a>"
      ]
    },
    {
      "cell_type": "code",
      "execution_count": 5,
      "metadata": {
        "id": "unpHtek03lzO"
      },
      "outputs": [],
      "source": [
        "import numpy as np\n",
        "import itertools\n",
        "import math\n",
        "from sklearn.linear_model import Ridge\n",
        "\n",
        "class SHAPExplainer:\n",
        "    def __init__(self, model, X_train):\n",
        "        \"\"\"\n",
        "        Initialize the SHAP explainer with the model and training data.\n",
        "\n",
        "        Parameters:\n",
        "        - model: Trained machine learning model.\n",
        "        - X_train: Training dataset (used for background distribution).\n",
        "        \"\"\"\n",
        "        self.model = model\n",
        "        self.X_train = X_train\n",
        "        self.num_features = X_train.shape[1]\n",
        "\n",
        "    def shap_kernel(self, S, j):\n",
        "        \"\"\"\n",
        "        Compute the Shapley kernel weighting for a subset S and feature j.\n",
        "        \"\"\"\n",
        "        subset_size = len(S)\n",
        "        num_features = self.num_features\n",
        "        return math.factorial(subset_size) * math.factorial(num_features - subset_size - 1) / math.factorial(num_features)\n",
        "\n",
        "    def predict_with_subset(self, instance, subset):\n",
        "        \"\"\"\n",
        "        Make a prediction using a subset of the features.\n",
        "\n",
        "        Parameters:\n",
        "        - instance: The instance to explain.\n",
        "        - subset: The subset of features to include in the model.\n",
        "        \"\"\"\n",
        "        masked_instance = np.zeros_like(instance)\n",
        "        masked_instance[:, subset] = instance[:, subset]\n",
        "        return self.model.predict(masked_instance)\n",
        "\n",
        "    def shap_values(self, instance, num_samples=100):\n",
        "        \"\"\"\n",
        "        Compute the SHAP values for a single instance.\n",
        "\n",
        "        Parameters:\n",
        "        - instance: The input instance to explain (numpy array, shape (1, num_features)).\n",
        "        - num_samples: Number of subsets to sample.\n",
        "\n",
        "        Returns:\n",
        "        - shap_values: Array of SHAP values for each feature.\n",
        "        \"\"\"\n",
        "        shap_values = np.zeros(self.num_features)\n",
        "\n",
        "        # Iterate over all features to compute Shapley values\n",
        "        for j in range(self.num_features):\n",
        "            for subset_size in range(self.num_features):\n",
        "                for S in itertools.combinations(range(self.num_features), subset_size):\n",
        "                    if j not in S:\n",
        "                        # Predictions with and without feature j\n",
        "                        pred_with_j = self.predict_with_subset(instance, list(S) + [j])[0]  # extract scalar\n",
        "                        pred_without_j = self.predict_with_subset(instance, list(S))[0]    # extract scalar\n",
        "\n",
        "                        # Compute marginal contribution of feature j\n",
        "                        marginal_contribution = pred_with_j - pred_without_j\n",
        "                        weight = self.shap_kernel(S, j)\n",
        "                        shap_values[j] += weight * marginal_contribution\n",
        "\n",
        "        # Normalize SHAP values to sum to the model's output for the instance\n",
        "        total_contribution = np.sum(shap_values)\n",
        "        prediction = self.model.predict(instance)[0]\n",
        "        if total_contribution != 0:\n",
        "            shap_values *= prediction / total_contribution\n",
        "        return shap_values"
      ]
    },
    {
      "cell_type": "code",
      "source": [
        "from sklearn.datasets import load_iris\n",
        "from sklearn.tree import DecisionTreeClassifier\n",
        "from sklearn.model_selection import train_test_split\n",
        "\n",
        "# Load the Iris dataset\n",
        "iris = load_iris()\n",
        "X_train, X_test, y_train, y_test = train_test_split(iris.data, iris.target, test_size=0.2, random_state=42)\n",
        "\n",
        "from sklearn.ensemble import RandomForestClassifier\n",
        "\n",
        "# Train a RandomForestClassifier\n",
        "rf_model = RandomForestClassifier(n_estimators=100, random_state=42)\n",
        "rf_model.fit(X_train, y_train)\n",
        "\n",
        "# Initialize SHAP explainer for RandomForest\n",
        "rf_explainer = SHAPExplainer(rf_model, X_train)\n",
        "\n",
        "# Compute SHAP values for a specific instance\n",
        "rf_shap_values = rf_explainer.shap_values(instance)\n",
        "\n",
        "# Print SHAP values for the random forest model\n",
        "print(\"SHAP values for the instance (RandomForest):\")\n",
        "for i, feature in enumerate(iris.feature_names):\n",
        "    print(f\"{feature}: {rf_shap_values[i]:.4f}\")"
      ],
      "metadata": {
        "colab": {
          "base_uri": "https://localhost:8080/"
        },
        "id": "hVcfD1ka3-ZQ",
        "outputId": "94096cc0-be9a-4b74-8b11-e30d06a9aa50"
      },
      "execution_count": 6,
      "outputs": [
        {
          "output_type": "stream",
          "name": "stdout",
          "text": [
            "SHAP values for the instance (RandomForest):\n",
            "sepal length (cm): 0.2500\n",
            "sepal width (cm): 0.0833\n",
            "petal length (cm): 0.2500\n",
            "petal width (cm): 0.4167\n"
          ]
        }
      ]
    },
    {
      "cell_type": "code",
      "source": [],
      "metadata": {
        "id": "DvcVeoKf3qqu"
      },
      "execution_count": null,
      "outputs": []
    }
  ]
}